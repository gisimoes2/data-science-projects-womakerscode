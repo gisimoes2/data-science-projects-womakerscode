{
  "nbformat": 4,
  "nbformat_minor": 0,
  "metadata": {
    "colab": {
      "provenance": [],
      "authorship_tag": "ABX9TyP/mWnwz++wb0M72Cvvzwry",
      "include_colab_link": true
    },
    "kernelspec": {
      "name": "python3",
      "display_name": "Python 3"
    },
    "language_info": {
      "name": "python"
    }
  },
  "cells": [
    {
      "cell_type": "markdown",
      "metadata": {
        "id": "view-in-github",
        "colab_type": "text"
      },
      "source": [
        "<a href=\"https://colab.research.google.com/github/gisimoes2/data-science-projects-womakerscode/blob/main/teste_individual_teste_hipotese.ipynb\" target=\"_parent\"><img src=\"https://colab.research.google.com/assets/colab-badge.svg\" alt=\"Open In Colab\"/></a>"
      ]
    },
    {
      "cell_type": "code",
      "execution_count": null,
      "metadata": {
        "id": "aNEhqCauY6Ct"
      },
      "outputs": [],
      "source": [
        "import pandas as pd\n",
        "import numpy as np\n",
        "import matplotlib.pyplot as plt\n",
        "from statsmodels.stats.proportion import proportions_ztest\n",
        "from scipy import stats  # o mesmo para outros submódulos\n",
        "from scipy.stats import ttest_1samp\n",
        "from scipy.stats import ttest_ind\n",
        "from scipy.stats import f_oneway\n",
        "from scipy.stats import chi2_contingency\n",
        "from scipy.stats import norm\n",
        "from scipy.stats import binom\n",
        "from scipy.stats import geom\n"
      ]
    },
    {
      "cell_type": "code",
      "source": [
        "df = pd.read_csv(\"experimento_teste.csv\")\n",
        "df.head()"
      ],
      "metadata": {
        "colab": {
          "base_uri": "https://localhost:8080/",
          "height": 206
        },
        "id": "qsErVEVjjPPG",
        "outputId": "d6b2d01e-1834-4fa9-ae37-4f986f086cd3"
      },
      "execution_count": null,
      "outputs": [
        {
          "output_type": "execute_result",
          "data": {
            "text/plain": [
              "   Visitante_ID Versão_Página  Visualizações  Conversões\n",
              "0             1             A            167           1\n",
              "1             2             A            160           0\n",
              "2             3             A            170           0\n",
              "3             4             A            161           1\n",
              "4             5             A            104           0"
            ],
            "text/html": [
              "\n",
              "  <div id=\"df-8f782e2d-5431-4957-90b1-6131aff68da5\" class=\"colab-df-container\">\n",
              "    <div>\n",
              "<style scoped>\n",
              "    .dataframe tbody tr th:only-of-type {\n",
              "        vertical-align: middle;\n",
              "    }\n",
              "\n",
              "    .dataframe tbody tr th {\n",
              "        vertical-align: top;\n",
              "    }\n",
              "\n",
              "    .dataframe thead th {\n",
              "        text-align: right;\n",
              "    }\n",
              "</style>\n",
              "<table border=\"1\" class=\"dataframe\">\n",
              "  <thead>\n",
              "    <tr style=\"text-align: right;\">\n",
              "      <th></th>\n",
              "      <th>Visitante_ID</th>\n",
              "      <th>Versão_Página</th>\n",
              "      <th>Visualizações</th>\n",
              "      <th>Conversões</th>\n",
              "    </tr>\n",
              "  </thead>\n",
              "  <tbody>\n",
              "    <tr>\n",
              "      <th>0</th>\n",
              "      <td>1</td>\n",
              "      <td>A</td>\n",
              "      <td>167</td>\n",
              "      <td>1</td>\n",
              "    </tr>\n",
              "    <tr>\n",
              "      <th>1</th>\n",
              "      <td>2</td>\n",
              "      <td>A</td>\n",
              "      <td>160</td>\n",
              "      <td>0</td>\n",
              "    </tr>\n",
              "    <tr>\n",
              "      <th>2</th>\n",
              "      <td>3</td>\n",
              "      <td>A</td>\n",
              "      <td>170</td>\n",
              "      <td>0</td>\n",
              "    </tr>\n",
              "    <tr>\n",
              "      <th>3</th>\n",
              "      <td>4</td>\n",
              "      <td>A</td>\n",
              "      <td>161</td>\n",
              "      <td>1</td>\n",
              "    </tr>\n",
              "    <tr>\n",
              "      <th>4</th>\n",
              "      <td>5</td>\n",
              "      <td>A</td>\n",
              "      <td>104</td>\n",
              "      <td>0</td>\n",
              "    </tr>\n",
              "  </tbody>\n",
              "</table>\n",
              "</div>\n",
              "    <div class=\"colab-df-buttons\">\n",
              "\n",
              "  <div class=\"colab-df-container\">\n",
              "    <button class=\"colab-df-convert\" onclick=\"convertToInteractive('df-8f782e2d-5431-4957-90b1-6131aff68da5')\"\n",
              "            title=\"Convert this dataframe to an interactive table.\"\n",
              "            style=\"display:none;\">\n",
              "\n",
              "  <svg xmlns=\"http://www.w3.org/2000/svg\" height=\"24px\" viewBox=\"0 -960 960 960\">\n",
              "    <path d=\"M120-120v-720h720v720H120Zm60-500h600v-160H180v160Zm220 220h160v-160H400v160Zm0 220h160v-160H400v160ZM180-400h160v-160H180v160Zm440 0h160v-160H620v160ZM180-180h160v-160H180v160Zm440 0h160v-160H620v160Z\"/>\n",
              "  </svg>\n",
              "    </button>\n",
              "\n",
              "  <style>\n",
              "    .colab-df-container {\n",
              "      display:flex;\n",
              "      gap: 12px;\n",
              "    }\n",
              "\n",
              "    .colab-df-convert {\n",
              "      background-color: #E8F0FE;\n",
              "      border: none;\n",
              "      border-radius: 50%;\n",
              "      cursor: pointer;\n",
              "      display: none;\n",
              "      fill: #1967D2;\n",
              "      height: 32px;\n",
              "      padding: 0 0 0 0;\n",
              "      width: 32px;\n",
              "    }\n",
              "\n",
              "    .colab-df-convert:hover {\n",
              "      background-color: #E2EBFA;\n",
              "      box-shadow: 0px 1px 2px rgba(60, 64, 67, 0.3), 0px 1px 3px 1px rgba(60, 64, 67, 0.15);\n",
              "      fill: #174EA6;\n",
              "    }\n",
              "\n",
              "    .colab-df-buttons div {\n",
              "      margin-bottom: 4px;\n",
              "    }\n",
              "\n",
              "    [theme=dark] .colab-df-convert {\n",
              "      background-color: #3B4455;\n",
              "      fill: #D2E3FC;\n",
              "    }\n",
              "\n",
              "    [theme=dark] .colab-df-convert:hover {\n",
              "      background-color: #434B5C;\n",
              "      box-shadow: 0px 1px 3px 1px rgba(0, 0, 0, 0.15);\n",
              "      filter: drop-shadow(0px 1px 2px rgba(0, 0, 0, 0.3));\n",
              "      fill: #FFFFFF;\n",
              "    }\n",
              "  </style>\n",
              "\n",
              "    <script>\n",
              "      const buttonEl =\n",
              "        document.querySelector('#df-8f782e2d-5431-4957-90b1-6131aff68da5 button.colab-df-convert');\n",
              "      buttonEl.style.display =\n",
              "        google.colab.kernel.accessAllowed ? 'block' : 'none';\n",
              "\n",
              "      async function convertToInteractive(key) {\n",
              "        const element = document.querySelector('#df-8f782e2d-5431-4957-90b1-6131aff68da5');\n",
              "        const dataTable =\n",
              "          await google.colab.kernel.invokeFunction('convertToInteractive',\n",
              "                                                    [key], {});\n",
              "        if (!dataTable) return;\n",
              "\n",
              "        const docLinkHtml = 'Like what you see? Visit the ' +\n",
              "          '<a target=\"_blank\" href=https://colab.research.google.com/notebooks/data_table.ipynb>data table notebook</a>'\n",
              "          + ' to learn more about interactive tables.';\n",
              "        element.innerHTML = '';\n",
              "        dataTable['output_type'] = 'display_data';\n",
              "        await google.colab.output.renderOutput(dataTable, element);\n",
              "        const docLink = document.createElement('div');\n",
              "        docLink.innerHTML = docLinkHtml;\n",
              "        element.appendChild(docLink);\n",
              "      }\n",
              "    </script>\n",
              "  </div>\n",
              "\n",
              "\n",
              "<div id=\"df-d7fb61c0-4d64-45b1-b164-63c6a4215f0b\">\n",
              "  <button class=\"colab-df-quickchart\" onclick=\"quickchart('df-d7fb61c0-4d64-45b1-b164-63c6a4215f0b')\"\n",
              "            title=\"Suggest charts\"\n",
              "            style=\"display:none;\">\n",
              "\n",
              "<svg xmlns=\"http://www.w3.org/2000/svg\" height=\"24px\"viewBox=\"0 0 24 24\"\n",
              "     width=\"24px\">\n",
              "    <g>\n",
              "        <path d=\"M19 3H5c-1.1 0-2 .9-2 2v14c0 1.1.9 2 2 2h14c1.1 0 2-.9 2-2V5c0-1.1-.9-2-2-2zM9 17H7v-7h2v7zm4 0h-2V7h2v10zm4 0h-2v-4h2v4z\"/>\n",
              "    </g>\n",
              "</svg>\n",
              "  </button>\n",
              "\n",
              "<style>\n",
              "  .colab-df-quickchart {\n",
              "      --bg-color: #E8F0FE;\n",
              "      --fill-color: #1967D2;\n",
              "      --hover-bg-color: #E2EBFA;\n",
              "      --hover-fill-color: #174EA6;\n",
              "      --disabled-fill-color: #AAA;\n",
              "      --disabled-bg-color: #DDD;\n",
              "  }\n",
              "\n",
              "  [theme=dark] .colab-df-quickchart {\n",
              "      --bg-color: #3B4455;\n",
              "      --fill-color: #D2E3FC;\n",
              "      --hover-bg-color: #434B5C;\n",
              "      --hover-fill-color: #FFFFFF;\n",
              "      --disabled-bg-color: #3B4455;\n",
              "      --disabled-fill-color: #666;\n",
              "  }\n",
              "\n",
              "  .colab-df-quickchart {\n",
              "    background-color: var(--bg-color);\n",
              "    border: none;\n",
              "    border-radius: 50%;\n",
              "    cursor: pointer;\n",
              "    display: none;\n",
              "    fill: var(--fill-color);\n",
              "    height: 32px;\n",
              "    padding: 0;\n",
              "    width: 32px;\n",
              "  }\n",
              "\n",
              "  .colab-df-quickchart:hover {\n",
              "    background-color: var(--hover-bg-color);\n",
              "    box-shadow: 0 1px 2px rgba(60, 64, 67, 0.3), 0 1px 3px 1px rgba(60, 64, 67, 0.15);\n",
              "    fill: var(--button-hover-fill-color);\n",
              "  }\n",
              "\n",
              "  .colab-df-quickchart-complete:disabled,\n",
              "  .colab-df-quickchart-complete:disabled:hover {\n",
              "    background-color: var(--disabled-bg-color);\n",
              "    fill: var(--disabled-fill-color);\n",
              "    box-shadow: none;\n",
              "  }\n",
              "\n",
              "  .colab-df-spinner {\n",
              "    border: 2px solid var(--fill-color);\n",
              "    border-color: transparent;\n",
              "    border-bottom-color: var(--fill-color);\n",
              "    animation:\n",
              "      spin 1s steps(1) infinite;\n",
              "  }\n",
              "\n",
              "  @keyframes spin {\n",
              "    0% {\n",
              "      border-color: transparent;\n",
              "      border-bottom-color: var(--fill-color);\n",
              "      border-left-color: var(--fill-color);\n",
              "    }\n",
              "    20% {\n",
              "      border-color: transparent;\n",
              "      border-left-color: var(--fill-color);\n",
              "      border-top-color: var(--fill-color);\n",
              "    }\n",
              "    30% {\n",
              "      border-color: transparent;\n",
              "      border-left-color: var(--fill-color);\n",
              "      border-top-color: var(--fill-color);\n",
              "      border-right-color: var(--fill-color);\n",
              "    }\n",
              "    40% {\n",
              "      border-color: transparent;\n",
              "      border-right-color: var(--fill-color);\n",
              "      border-top-color: var(--fill-color);\n",
              "    }\n",
              "    60% {\n",
              "      border-color: transparent;\n",
              "      border-right-color: var(--fill-color);\n",
              "    }\n",
              "    80% {\n",
              "      border-color: transparent;\n",
              "      border-right-color: var(--fill-color);\n",
              "      border-bottom-color: var(--fill-color);\n",
              "    }\n",
              "    90% {\n",
              "      border-color: transparent;\n",
              "      border-bottom-color: var(--fill-color);\n",
              "    }\n",
              "  }\n",
              "</style>\n",
              "\n",
              "  <script>\n",
              "    async function quickchart(key) {\n",
              "      const quickchartButtonEl =\n",
              "        document.querySelector('#' + key + ' button');\n",
              "      quickchartButtonEl.disabled = true;  // To prevent multiple clicks.\n",
              "      quickchartButtonEl.classList.add('colab-df-spinner');\n",
              "      try {\n",
              "        const charts = await google.colab.kernel.invokeFunction(\n",
              "            'suggestCharts', [key], {});\n",
              "      } catch (error) {\n",
              "        console.error('Error during call to suggestCharts:', error);\n",
              "      }\n",
              "      quickchartButtonEl.classList.remove('colab-df-spinner');\n",
              "      quickchartButtonEl.classList.add('colab-df-quickchart-complete');\n",
              "    }\n",
              "    (() => {\n",
              "      let quickchartButtonEl =\n",
              "        document.querySelector('#df-d7fb61c0-4d64-45b1-b164-63c6a4215f0b button');\n",
              "      quickchartButtonEl.style.display =\n",
              "        google.colab.kernel.accessAllowed ? 'block' : 'none';\n",
              "    })();\n",
              "  </script>\n",
              "</div>\n",
              "\n",
              "    </div>\n",
              "  </div>\n"
            ],
            "application/vnd.google.colaboratory.intrinsic+json": {
              "type": "dataframe",
              "variable_name": "df",
              "summary": "{\n  \"name\": \"df\",\n  \"rows\": 2000,\n  \"fields\": [\n    {\n      \"column\": \"Visitante_ID\",\n      \"properties\": {\n        \"dtype\": \"number\",\n        \"std\": 577,\n        \"min\": 1,\n        \"max\": 2000,\n        \"num_unique_values\": 2000,\n        \"samples\": [\n          1861,\n          354,\n          1334\n        ],\n        \"semantic_type\": \"\",\n        \"description\": \"\"\n      }\n    },\n    {\n      \"column\": \"Vers\\u00e3o_P\\u00e1gina\",\n      \"properties\": {\n        \"dtype\": \"category\",\n        \"num_unique_values\": 2,\n        \"samples\": [\n          \"B\",\n          \"A\"\n        ],\n        \"semantic_type\": \"\",\n        \"description\": \"\"\n      }\n    },\n    {\n      \"column\": \"Visualiza\\u00e7\\u00f5es\",\n      \"properties\": {\n        \"dtype\": \"number\",\n        \"std\": 28,\n        \"min\": 100,\n        \"max\": 199,\n        \"num_unique_values\": 100,\n        \"samples\": [\n          192,\n          107\n        ],\n        \"semantic_type\": \"\",\n        \"description\": \"\"\n      }\n    },\n    {\n      \"column\": \"Convers\\u00f5es\",\n      \"properties\": {\n        \"dtype\": \"number\",\n        \"std\": 0,\n        \"min\": 0,\n        \"max\": 1,\n        \"num_unique_values\": 2,\n        \"samples\": [\n          0,\n          1\n        ],\n        \"semantic_type\": \"\",\n        \"description\": \"\"\n      }\n    }\n  ]\n}"
            }
          },
          "metadata": {},
          "execution_count": 14
        }
      ]
    },
    {
      "cell_type": "markdown",
      "source": [
        "1) Qual dos cenários tem a maior taxa de conversão?\n"
      ],
      "metadata": {
        "id": "df7LP2NikyEl"
      }
    },
    {
      "cell_type": "code",
      "source": [
        "#taxa de conversão se refere a proporção entre números de eventos bem sucedidos\n",
        "#usado para medir o desempenho de determinado processo\n",
        "total_conversoes_a = df[df['Versão_Página']== 'A']['Conversões'].sum()\n",
        "total_visu_a = df[df['Versão_Página']== 'A']['Visualizações'].sum()\n",
        "total_conversao_a = ((total_conversoes_a/total_visu_a) *100)\n",
        "print(total_conversao_a)\n",
        "\n",
        "total_conversoes_b = df[df['Versão_Página']== 'B']['Conversões'].sum()\n",
        "total_visu_b = df[df['Versão_Página']== 'B']['Visualizações'].sum()\n",
        "total_conversao_b = (total_conversoes_b/total_visu_b) *100\n",
        "print(total_conversao_b)\n"
      ],
      "metadata": {
        "colab": {
          "base_uri": "https://localhost:8080/"
        },
        "id": "pvbqOmJxj5LG",
        "outputId": "f72be7eb-499c-46a1-a0d3-1795d95d07d0"
      },
      "execution_count": null,
      "outputs": [
        {
          "output_type": "stream",
          "name": "stdout",
          "text": [
            "0.06961249046971857\n",
            "0.08295946268815206\n"
          ]
        }
      ]
    },
    {
      "cell_type": "markdown",
      "source": [
        "2)\n",
        "Calcule qual o tamanho da amostra necessária para o desenvolvimento\n",
        "de um teste A/B, seguindo os seguintes critérios:\n",
        "\n",
        "a. O cenário A, da base, como o inicial, que funciona hoje.\n",
        "\n",
        "b. Considere 95% de confiança de que o efeito na conversão não foi\n",
        "\n",
        "aleatório com um nível de significância de 5% (alpha = 0,05).\n",
        "c. Também considere 80% de certeza conseguir capturar o efeito\n",
        "\n",
        "da nova abordagem.\n",
        "\n",
        "d. O aumento para 10% de conversão.\n",
        "\n"
      ],
      "metadata": {
        "id": "6bcj3QF2ngmn"
      }
    },
    {
      "cell_type": "code",
      "source": [
        "\n",
        "# alpha = 0.05\n",
        "# poder_teste = 0.8\n",
        "taxa_conversao_desejada = 0.1\n",
        "delta = taxa_conversao_desejada - total_conversao_a\n",
        "print(\"Delta\", delta)"
      ],
      "metadata": {
        "colab": {
          "base_uri": "https://localhost:8080/"
        },
        "id": "A5QZFIBnk-g3",
        "outputId": "281d57b6-1ad7-4b7d-b5f7-f5d9873c24f6"
      },
      "execution_count": null,
      "outputs": [
        {
          "output_type": "stream",
          "name": "stdout",
          "text": [
            "Delta 0.030387509530281437\n"
          ]
        }
      ]
    },
    {
      "cell_type": "code",
      "source": [
        "\n",
        "#calcular a variavel binomial para cada observação no grupo controle\n",
        "obs_controle = df[df['Versão_Página']== 'A']['Conversões'].tolist()\n",
        "#calcular a variancia amostral do grupo controle\n",
        "variancia_amostral_a = np.var(obs_controle)\n",
        "print(\"Variancia amostral do grupo controle(S1)\",variancia_amostral_a)\n",
        "\n"
      ],
      "metadata": {
        "colab": {
          "base_uri": "https://localhost:8080/"
        },
        "id": "k2PXQzQGTEX9",
        "outputId": "ff89cd20-e98b-4532-eaec-780a907abdbd"
      },
      "execution_count": null,
      "outputs": [
        {
          "output_type": "stream",
          "name": "stdout",
          "text": [
            "Variancia amostral do grupo controle(S1) 0.09397499999999999\n"
          ]
        }
      ]
    },
    {
      "cell_type": "code",
      "source": [
        "alpha = 0.05\n",
        "beta = 1- 0.8\n",
        "z_alpha_2 = stats.norm.ppf(1-alpha/2)\n",
        "z_beta = stats.norm.ppf(1-beta)\n",
        "#calculando o tamanho da amostra necessario\n",
        "n = (2*(variancia_amostral_a)*(z_alpha_2 + z_beta)**2)/ delta**2\n",
        "print('tamanho da amostra necessaria para cada grupo ', round(n))"
      ],
      "metadata": {
        "colab": {
          "base_uri": "https://localhost:8080/"
        },
        "id": "4a1-X3-5UgY4",
        "outputId": "0ddeba7f-1bf1-4d42-fcac-1e847c05e085"
      },
      "execution_count": null,
      "outputs": [
        {
          "output_type": "stream",
          "name": "stdout",
          "text": [
            "tamanho da amostra necessaria para cada grupo  1598\n"
          ]
        }
      ]
    },
    {
      "cell_type": "markdown",
      "source": [
        "3)Considerando uma amostra de 45 números que representam o index do\n",
        "dataframe, índices= ([909, 751, 402, 400, 726, 39, 184, 269, 255, 769,\n",
        "209, 715, 677, 381, 793, 697, 89, 280, 232, 756, 358, 36, 439, 768, 967,\n",
        "699, 473, 222, 89, 639, 883, 558, 757, 84, 907, 895, 217, 224, 311, 348,\n",
        "146, 505, 273, 957, 362]). Considerando essa amostra é possível dizer\n",
        "que a idade média das pessoas com problemas cardíacos é maior que\n",
        "50 anos? Nível de significância igual a 5%.\n"
      ],
      "metadata": {
        "id": "QjK5wUiqd6qu"
      }
    },
    {
      "cell_type": "code",
      "source": [
        "pacientes = pd.read_csv(\"pacientes.csv\")\n",
        "df.head()\n"
      ],
      "metadata": {
        "colab": {
          "base_uri": "https://localhost:8080/",
          "height": 206
        },
        "id": "HpSR7_zvdBn4",
        "outputId": "2d780729-cb54-4b6e-d282-e015f1af3466"
      },
      "execution_count": null,
      "outputs": [
        {
          "output_type": "execute_result",
          "data": {
            "text/plain": [
              "   Visitante_ID Versão_Página  Visualizações  Conversões\n",
              "0             1             A            167           1\n",
              "1             2             A            160           0\n",
              "2             3             A            170           0\n",
              "3             4             A            161           1\n",
              "4             5             A            104           0"
            ],
            "text/html": [
              "\n",
              "  <div id=\"df-58d321c6-45f1-42f4-a070-306826e75c3b\" class=\"colab-df-container\">\n",
              "    <div>\n",
              "<style scoped>\n",
              "    .dataframe tbody tr th:only-of-type {\n",
              "        vertical-align: middle;\n",
              "    }\n",
              "\n",
              "    .dataframe tbody tr th {\n",
              "        vertical-align: top;\n",
              "    }\n",
              "\n",
              "    .dataframe thead th {\n",
              "        text-align: right;\n",
              "    }\n",
              "</style>\n",
              "<table border=\"1\" class=\"dataframe\">\n",
              "  <thead>\n",
              "    <tr style=\"text-align: right;\">\n",
              "      <th></th>\n",
              "      <th>Visitante_ID</th>\n",
              "      <th>Versão_Página</th>\n",
              "      <th>Visualizações</th>\n",
              "      <th>Conversões</th>\n",
              "    </tr>\n",
              "  </thead>\n",
              "  <tbody>\n",
              "    <tr>\n",
              "      <th>0</th>\n",
              "      <td>1</td>\n",
              "      <td>A</td>\n",
              "      <td>167</td>\n",
              "      <td>1</td>\n",
              "    </tr>\n",
              "    <tr>\n",
              "      <th>1</th>\n",
              "      <td>2</td>\n",
              "      <td>A</td>\n",
              "      <td>160</td>\n",
              "      <td>0</td>\n",
              "    </tr>\n",
              "    <tr>\n",
              "      <th>2</th>\n",
              "      <td>3</td>\n",
              "      <td>A</td>\n",
              "      <td>170</td>\n",
              "      <td>0</td>\n",
              "    </tr>\n",
              "    <tr>\n",
              "      <th>3</th>\n",
              "      <td>4</td>\n",
              "      <td>A</td>\n",
              "      <td>161</td>\n",
              "      <td>1</td>\n",
              "    </tr>\n",
              "    <tr>\n",
              "      <th>4</th>\n",
              "      <td>5</td>\n",
              "      <td>A</td>\n",
              "      <td>104</td>\n",
              "      <td>0</td>\n",
              "    </tr>\n",
              "  </tbody>\n",
              "</table>\n",
              "</div>\n",
              "    <div class=\"colab-df-buttons\">\n",
              "\n",
              "  <div class=\"colab-df-container\">\n",
              "    <button class=\"colab-df-convert\" onclick=\"convertToInteractive('df-58d321c6-45f1-42f4-a070-306826e75c3b')\"\n",
              "            title=\"Convert this dataframe to an interactive table.\"\n",
              "            style=\"display:none;\">\n",
              "\n",
              "  <svg xmlns=\"http://www.w3.org/2000/svg\" height=\"24px\" viewBox=\"0 -960 960 960\">\n",
              "    <path d=\"M120-120v-720h720v720H120Zm60-500h600v-160H180v160Zm220 220h160v-160H400v160Zm0 220h160v-160H400v160ZM180-400h160v-160H180v160Zm440 0h160v-160H620v160ZM180-180h160v-160H180v160Zm440 0h160v-160H620v160Z\"/>\n",
              "  </svg>\n",
              "    </button>\n",
              "\n",
              "  <style>\n",
              "    .colab-df-container {\n",
              "      display:flex;\n",
              "      gap: 12px;\n",
              "    }\n",
              "\n",
              "    .colab-df-convert {\n",
              "      background-color: #E8F0FE;\n",
              "      border: none;\n",
              "      border-radius: 50%;\n",
              "      cursor: pointer;\n",
              "      display: none;\n",
              "      fill: #1967D2;\n",
              "      height: 32px;\n",
              "      padding: 0 0 0 0;\n",
              "      width: 32px;\n",
              "    }\n",
              "\n",
              "    .colab-df-convert:hover {\n",
              "      background-color: #E2EBFA;\n",
              "      box-shadow: 0px 1px 2px rgba(60, 64, 67, 0.3), 0px 1px 3px 1px rgba(60, 64, 67, 0.15);\n",
              "      fill: #174EA6;\n",
              "    }\n",
              "\n",
              "    .colab-df-buttons div {\n",
              "      margin-bottom: 4px;\n",
              "    }\n",
              "\n",
              "    [theme=dark] .colab-df-convert {\n",
              "      background-color: #3B4455;\n",
              "      fill: #D2E3FC;\n",
              "    }\n",
              "\n",
              "    [theme=dark] .colab-df-convert:hover {\n",
              "      background-color: #434B5C;\n",
              "      box-shadow: 0px 1px 3px 1px rgba(0, 0, 0, 0.15);\n",
              "      filter: drop-shadow(0px 1px 2px rgba(0, 0, 0, 0.3));\n",
              "      fill: #FFFFFF;\n",
              "    }\n",
              "  </style>\n",
              "\n",
              "    <script>\n",
              "      const buttonEl =\n",
              "        document.querySelector('#df-58d321c6-45f1-42f4-a070-306826e75c3b button.colab-df-convert');\n",
              "      buttonEl.style.display =\n",
              "        google.colab.kernel.accessAllowed ? 'block' : 'none';\n",
              "\n",
              "      async function convertToInteractive(key) {\n",
              "        const element = document.querySelector('#df-58d321c6-45f1-42f4-a070-306826e75c3b');\n",
              "        const dataTable =\n",
              "          await google.colab.kernel.invokeFunction('convertToInteractive',\n",
              "                                                    [key], {});\n",
              "        if (!dataTable) return;\n",
              "\n",
              "        const docLinkHtml = 'Like what you see? Visit the ' +\n",
              "          '<a target=\"_blank\" href=https://colab.research.google.com/notebooks/data_table.ipynb>data table notebook</a>'\n",
              "          + ' to learn more about interactive tables.';\n",
              "        element.innerHTML = '';\n",
              "        dataTable['output_type'] = 'display_data';\n",
              "        await google.colab.output.renderOutput(dataTable, element);\n",
              "        const docLink = document.createElement('div');\n",
              "        docLink.innerHTML = docLinkHtml;\n",
              "        element.appendChild(docLink);\n",
              "      }\n",
              "    </script>\n",
              "  </div>\n",
              "\n",
              "\n",
              "<div id=\"df-4f6f9f90-363f-40ec-97f0-6678c55be0e0\">\n",
              "  <button class=\"colab-df-quickchart\" onclick=\"quickchart('df-4f6f9f90-363f-40ec-97f0-6678c55be0e0')\"\n",
              "            title=\"Suggest charts\"\n",
              "            style=\"display:none;\">\n",
              "\n",
              "<svg xmlns=\"http://www.w3.org/2000/svg\" height=\"24px\"viewBox=\"0 0 24 24\"\n",
              "     width=\"24px\">\n",
              "    <g>\n",
              "        <path d=\"M19 3H5c-1.1 0-2 .9-2 2v14c0 1.1.9 2 2 2h14c1.1 0 2-.9 2-2V5c0-1.1-.9-2-2-2zM9 17H7v-7h2v7zm4 0h-2V7h2v10zm4 0h-2v-4h2v4z\"/>\n",
              "    </g>\n",
              "</svg>\n",
              "  </button>\n",
              "\n",
              "<style>\n",
              "  .colab-df-quickchart {\n",
              "      --bg-color: #E8F0FE;\n",
              "      --fill-color: #1967D2;\n",
              "      --hover-bg-color: #E2EBFA;\n",
              "      --hover-fill-color: #174EA6;\n",
              "      --disabled-fill-color: #AAA;\n",
              "      --disabled-bg-color: #DDD;\n",
              "  }\n",
              "\n",
              "  [theme=dark] .colab-df-quickchart {\n",
              "      --bg-color: #3B4455;\n",
              "      --fill-color: #D2E3FC;\n",
              "      --hover-bg-color: #434B5C;\n",
              "      --hover-fill-color: #FFFFFF;\n",
              "      --disabled-bg-color: #3B4455;\n",
              "      --disabled-fill-color: #666;\n",
              "  }\n",
              "\n",
              "  .colab-df-quickchart {\n",
              "    background-color: var(--bg-color);\n",
              "    border: none;\n",
              "    border-radius: 50%;\n",
              "    cursor: pointer;\n",
              "    display: none;\n",
              "    fill: var(--fill-color);\n",
              "    height: 32px;\n",
              "    padding: 0;\n",
              "    width: 32px;\n",
              "  }\n",
              "\n",
              "  .colab-df-quickchart:hover {\n",
              "    background-color: var(--hover-bg-color);\n",
              "    box-shadow: 0 1px 2px rgba(60, 64, 67, 0.3), 0 1px 3px 1px rgba(60, 64, 67, 0.15);\n",
              "    fill: var(--button-hover-fill-color);\n",
              "  }\n",
              "\n",
              "  .colab-df-quickchart-complete:disabled,\n",
              "  .colab-df-quickchart-complete:disabled:hover {\n",
              "    background-color: var(--disabled-bg-color);\n",
              "    fill: var(--disabled-fill-color);\n",
              "    box-shadow: none;\n",
              "  }\n",
              "\n",
              "  .colab-df-spinner {\n",
              "    border: 2px solid var(--fill-color);\n",
              "    border-color: transparent;\n",
              "    border-bottom-color: var(--fill-color);\n",
              "    animation:\n",
              "      spin 1s steps(1) infinite;\n",
              "  }\n",
              "\n",
              "  @keyframes spin {\n",
              "    0% {\n",
              "      border-color: transparent;\n",
              "      border-bottom-color: var(--fill-color);\n",
              "      border-left-color: var(--fill-color);\n",
              "    }\n",
              "    20% {\n",
              "      border-color: transparent;\n",
              "      border-left-color: var(--fill-color);\n",
              "      border-top-color: var(--fill-color);\n",
              "    }\n",
              "    30% {\n",
              "      border-color: transparent;\n",
              "      border-left-color: var(--fill-color);\n",
              "      border-top-color: var(--fill-color);\n",
              "      border-right-color: var(--fill-color);\n",
              "    }\n",
              "    40% {\n",
              "      border-color: transparent;\n",
              "      border-right-color: var(--fill-color);\n",
              "      border-top-color: var(--fill-color);\n",
              "    }\n",
              "    60% {\n",
              "      border-color: transparent;\n",
              "      border-right-color: var(--fill-color);\n",
              "    }\n",
              "    80% {\n",
              "      border-color: transparent;\n",
              "      border-right-color: var(--fill-color);\n",
              "      border-bottom-color: var(--fill-color);\n",
              "    }\n",
              "    90% {\n",
              "      border-color: transparent;\n",
              "      border-bottom-color: var(--fill-color);\n",
              "    }\n",
              "  }\n",
              "</style>\n",
              "\n",
              "  <script>\n",
              "    async function quickchart(key) {\n",
              "      const quickchartButtonEl =\n",
              "        document.querySelector('#' + key + ' button');\n",
              "      quickchartButtonEl.disabled = true;  // To prevent multiple clicks.\n",
              "      quickchartButtonEl.classList.add('colab-df-spinner');\n",
              "      try {\n",
              "        const charts = await google.colab.kernel.invokeFunction(\n",
              "            'suggestCharts', [key], {});\n",
              "      } catch (error) {\n",
              "        console.error('Error during call to suggestCharts:', error);\n",
              "      }\n",
              "      quickchartButtonEl.classList.remove('colab-df-spinner');\n",
              "      quickchartButtonEl.classList.add('colab-df-quickchart-complete');\n",
              "    }\n",
              "    (() => {\n",
              "      let quickchartButtonEl =\n",
              "        document.querySelector('#df-4f6f9f90-363f-40ec-97f0-6678c55be0e0 button');\n",
              "      quickchartButtonEl.style.display =\n",
              "        google.colab.kernel.accessAllowed ? 'block' : 'none';\n",
              "    })();\n",
              "  </script>\n",
              "</div>\n",
              "\n",
              "    </div>\n",
              "  </div>\n"
            ],
            "application/vnd.google.colaboratory.intrinsic+json": {
              "type": "dataframe",
              "variable_name": "df",
              "summary": "{\n  \"name\": \"df\",\n  \"rows\": 2000,\n  \"fields\": [\n    {\n      \"column\": \"Visitante_ID\",\n      \"properties\": {\n        \"dtype\": \"number\",\n        \"std\": 577,\n        \"min\": 1,\n        \"max\": 2000,\n        \"num_unique_values\": 2000,\n        \"samples\": [\n          1861,\n          354,\n          1334\n        ],\n        \"semantic_type\": \"\",\n        \"description\": \"\"\n      }\n    },\n    {\n      \"column\": \"Vers\\u00e3o_P\\u00e1gina\",\n      \"properties\": {\n        \"dtype\": \"category\",\n        \"num_unique_values\": 2,\n        \"samples\": [\n          \"B\",\n          \"A\"\n        ],\n        \"semantic_type\": \"\",\n        \"description\": \"\"\n      }\n    },\n    {\n      \"column\": \"Visualiza\\u00e7\\u00f5es\",\n      \"properties\": {\n        \"dtype\": \"number\",\n        \"std\": 28,\n        \"min\": 100,\n        \"max\": 199,\n        \"num_unique_values\": 100,\n        \"samples\": [\n          192,\n          107\n        ],\n        \"semantic_type\": \"\",\n        \"description\": \"\"\n      }\n    },\n    {\n      \"column\": \"Convers\\u00f5es\",\n      \"properties\": {\n        \"dtype\": \"number\",\n        \"std\": 0,\n        \"min\": 0,\n        \"max\": 1,\n        \"num_unique_values\": 2,\n        \"samples\": [\n          0,\n          1\n        ],\n        \"semantic_type\": \"\",\n        \"description\": \"\"\n      }\n    }\n  ]\n}"
            }
          },
          "metadata": {},
          "execution_count": 19
        }
      ]
    },
    {
      "cell_type": "code",
      "source": [
        "indices_amostra = [909, 751, 402, 400, 726, 39, 184, 269, 255, 769, 209, 715, 677, 381, 793, 697, 89, 280, 232, 756, 358, 36, 439, 768, 967, 699, 473, 222, 89, 639, 883, 558, 757, 84, 907, 895, 217, 224, 311, 348, 146, 505, 273, 957, 362]\n",
        "amostra_idades = pacientes.loc[indices_amostra]['Idade']\n",
        "_,p_value = ttest_1samp(amostra_idades,50)\n",
        "alpha = 0.05\n",
        "print(p_value)\n",
        "\n",
        "if p_value < alpha:\n",
        "  print(\"rejeitamos a hipotese nula\")\n",
        "else:\n",
        "  print(\"Não rejeitamos a hipotese nula\")\n"
      ],
      "metadata": {
        "colab": {
          "base_uri": "https://localhost:8080/"
        },
        "id": "t7aoPQyeexWy",
        "outputId": "ed31ea9e-591b-4a0a-b793-11ba5227ced3"
      },
      "execution_count": null,
      "outputs": [
        {
          "output_type": "stream",
          "name": "stdout",
          "text": [
            "0.9585414467632783\n",
            "Não rejeitamos a hipotese nula\n"
          ]
        }
      ]
    },
    {
      "cell_type": "markdown",
      "source": [
        "4)Queremos entender que tipo de amostra estamos lidando se dividirmos\n",
        "os conjuntos em 2, sendo um com pessoas que têm condições de\n",
        "saúde adicionais e o outro com pessoas saudáveis. Seria dependente\n",
        "ou independente?\n",
        "\n"
      ],
      "metadata": {
        "id": "ofKDfGw9lVaC"
      }
    },
    {
      "cell_type": "code",
      "source": [],
      "metadata": {
        "id": "znMk5D5fknw6"
      },
      "execution_count": null,
      "outputs": []
    },
    {
      "cell_type": "markdown",
      "source": [
        "5)Agora considere o um conjunto de pessoas aleatória que representam\n",
        "o index do dataframe, índices = ([690, 894, 67, 201, 364, 19, 60, 319,\n",
        "588, 643, 855, 623, 530, 174, 105, 693, 6, 462, 973, 607, 811, 346, 354966, 943, 372]), podemos dizer que a pressão arterial média para\n",
        "pacientes com condições de saúde adicionais é igual à pressão arterial\n",
        "média para pacientes sem condições adicionais de saúde? Considere o\n",
        "nível de significância a 6%\n"
      ],
      "metadata": {
        "id": "EQHPALP1otqm"
      }
    },
    {
      "cell_type": "code",
      "source": [
        "indices_com_condicoes = [690, 894, 67, 201, 364, 19, 60, 319, 588, 643, 855, 623, 530, 174, 105, 693, 6, 462, 973, 607, 811, 346, 354,966, 943, 372]\n",
        "parcial = pacientes.loc[indices_com_condicoes]\n",
        "\n",
        "pressao_com_condicoes_adcionais = parcial[parcial['Nome_Estado_Saude'] != 'Saudável']['Pressao_Arterial']\n",
        "pressao_sem_condicoes_adcionais = parcial[parcial['Nome_Estado_Saude'] == 'Saudável']['Pressao_Arterial']\n",
        "\n",
        "satatistics,p_value = ttest_ind(pressao_com_condicoes_adcionais,pressao_sem_condicoes_adcionais)\n",
        "print(satatistics,p_value)\n",
        "alpha = 0.06\n",
        "if p_value < alpha:\n",
        "  print(\"Rejeitamos a hipotese nula \")\n",
        "else:\n",
        "  print(\"Não rejeitamos a hipotese nula\")"
      ],
      "metadata": {
        "colab": {
          "base_uri": "https://localhost:8080/"
        },
        "id": "PuS_H8R5ozTX",
        "outputId": "55c495d9-1f1a-4d96-e3f3-21120a367ef1"
      },
      "execution_count": null,
      "outputs": [
        {
          "output_type": "stream",
          "name": "stdout",
          "text": [
            "0.08124024162329026 0.9359246016248415\n",
            "Não rejeitamos a hipotese nula\n"
          ]
        }
      ]
    },
    {
      "cell_type": "markdown",
      "source": [
        "6)Existe uma diferença significativa na pressão arterial média entre\n",
        "diferentes grupos étnicos nesta população? (Teste ANOVA, alpha é 5%)\n",
        "\n",
        "a. Hipótese Nula (H0): A pressão arterial média é a mesma em todos\n",
        "os grupos étnicos.\n",
        "\n",
        "\n",
        "b. Hipótese Alternativa (H1): Há uma diferença significativa na\n",
        "pressão arterial média entre pelo menos dois grupos étnicos\n",
        "nesta população\n",
        "\n"
      ],
      "metadata": {
        "id": "cd0uiIwXuJNX"
      }
    },
    {
      "cell_type": "code",
      "source": [
        "pressao_por_etnia = {'1':pacientes[pacientes['Nome_Etnia']== 'Afro-americano']['Pressao_Arterial'].values,\n",
        "                     '2':pacientes[pacientes['Nome_Etnia']== 'Asiático']['Pressao_Arterial'].values,\n",
        "                     '3':pacientes[pacientes['Nome_Etnia']== 'Hispânico']['Pressao_Arterial'].values,\n",
        "                     '4':pacientes[pacientes['Nome_Etnia']== 'Caucasiano']['Pressao_Arterial'].values,\n",
        "                     }\n",
        "statistics, p_value = f_oneway(*pressao_por_etnia.values())\n",
        "alpha = 0.05\n",
        "if p_value < alpha:\n",
        " print(\"Rejeitamos a hipotese nula \")\n",
        "else:\n",
        "  print(\"Não rejeitamos a hipotese nula\")"
      ],
      "metadata": {
        "colab": {
          "base_uri": "https://localhost:8080/"
        },
        "id": "Ft2yQSQpuOKX",
        "outputId": "1aeeae1f-8534-4f4a-b595-331128155a21"
      },
      "execution_count": null,
      "outputs": [
        {
          "output_type": "stream",
          "name": "stdout",
          "text": [
            "Não rejeitamos a hipotese nula\n"
          ]
        }
      ]
    },
    {
      "cell_type": "markdown",
      "source": [
        " 7)Lúcia é uma pesquisadora e tem o objetivo de entender a relação de\n",
        "gênero neste grupo de pacientes. Acredita-se que há uma relação\n",
        "entre o sexo e condições de saúde adicionais. (Teste qui-quadrado)"
      ],
      "metadata": {
        "id": "tQSS9Ayq_bf9"
      }
    },
    {
      "cell_type": "code",
      "source": [
        "condicoes_adcionais_homens = pacientes[(pacientes['Nome_Estado_Saude'] != 'Saudável') & (pacientes['Nome_Genero'] == 'Masculino')]\n",
        "sem_condicoes_adcionais_homens = pacientes[(pacientes['Nome_Estado_Saude'] == 'Saudável') & (pacientes['Nome_Genero'] == 'Masculino')]\n",
        "condicoes_adcionais_mulheres = pacientes[(pacientes['Nome_Estado_Saude'] != 'Saudável') & (pacientes['Nome_Genero'] == 'Feminino')]\n",
        "sem_condicoes_adcionais_mulheres = pacientes[(pacientes['Nome_Estado_Saude'] == 'Saudável') & (pacientes['Nome_Genero'] == 'Feminino')]\n"
      ],
      "metadata": {
        "id": "tkoLq0Kn_hhI"
      },
      "execution_count": null,
      "outputs": []
    },
    {
      "cell_type": "code",
      "source": [
        "tabela_contingencia = [\n",
        "    [condicoes_adcionais_homens, sem_condicoes_adcionais_homens]\n",
        "    [condicoes_adcionais_mulheres, sem_condicoes_adcionais_mulheres]\n",
        "]\n",
        "statistics, p_value, dof, expected = chi2_contingency(tabela_contingencia)\n",
        "alpha = 0.05\n",
        "if p_value < alpha:\n",
        " print(\"Rejeitamos a hipotese nula \")\n",
        "else:\n",
        "  print(\"Não rejeitamos a hipotese nula\")"
      ],
      "metadata": {
        "colab": {
          "base_uri": "https://localhost:8080/",
          "height": 300
        },
        "id": "5pqXcM8HBvpa",
        "outputId": "56365d9f-ef60-41f1-c3d8-4ef0a70b9479"
      },
      "execution_count": null,
      "outputs": [
        {
          "output_type": "stream",
          "name": "stderr",
          "text": [
            "<>:2: SyntaxWarning: list indices must be integers or slices, not tuple; perhaps you missed a comma?\n",
            "<>:2: SyntaxWarning: list indices must be integers or slices, not tuple; perhaps you missed a comma?\n",
            "<ipython-input-24-cd2d3e236401>:2: SyntaxWarning: list indices must be integers or slices, not tuple; perhaps you missed a comma?\n",
            "  [condicoes_adcionais_homens, sem_condicoes_adcionais_homens]\n"
          ]
        },
        {
          "output_type": "error",
          "ename": "TypeError",
          "evalue": "list indices must be integers or slices, not tuple",
          "traceback": [
            "\u001b[0;31m---------------------------------------------------------------------------\u001b[0m",
            "\u001b[0;31mTypeError\u001b[0m                                 Traceback (most recent call last)",
            "\u001b[0;32m<ipython-input-24-cd2d3e236401>\u001b[0m in \u001b[0;36m<cell line: 2>\u001b[0;34m()\u001b[0m\n\u001b[1;32m      1\u001b[0m tabela_contingencia = [\n\u001b[0;32m----> 2\u001b[0;31m     \u001b[0;34m[\u001b[0m\u001b[0mcondicoes_adcionais_homens\u001b[0m\u001b[0;34m,\u001b[0m \u001b[0msem_condicoes_adcionais_homens\u001b[0m\u001b[0;34m]\u001b[0m\u001b[0;34m\u001b[0m\u001b[0;34m\u001b[0m\u001b[0m\n\u001b[0m\u001b[1;32m      3\u001b[0m     \u001b[0;34m[\u001b[0m\u001b[0mcondicoes_adcionais_mulheres\u001b[0m\u001b[0;34m,\u001b[0m \u001b[0msem_condicoes_adcionais_mulheres\u001b[0m\u001b[0;34m]\u001b[0m\u001b[0;34m\u001b[0m\u001b[0;34m\u001b[0m\u001b[0m\n\u001b[1;32m      4\u001b[0m ]\n\u001b[1;32m      5\u001b[0m \u001b[0mstatistics\u001b[0m\u001b[0;34m,\u001b[0m \u001b[0mp_value\u001b[0m\u001b[0;34m,\u001b[0m \u001b[0mdof\u001b[0m\u001b[0;34m,\u001b[0m \u001b[0mexpected\u001b[0m \u001b[0;34m=\u001b[0m \u001b[0mchi2_contingency\u001b[0m\u001b[0;34m(\u001b[0m\u001b[0mtabela_contingencia\u001b[0m\u001b[0;34m)\u001b[0m\u001b[0;34m\u001b[0m\u001b[0;34m\u001b[0m\u001b[0m\n",
            "\u001b[0;31mTypeError\u001b[0m: list indices must be integers or slices, not tuple"
          ]
        }
      ]
    },
    {
      "cell_type": "markdown",
      "source": [
        "8)Existe uma associação entre a idade dos pacientes e sua pressão\n",
        "arterial?\n",
        "a. Hipótese Nula (H0): se a pressão arterial é independente da idade\n",
        "b. Hipótese Alternativa (H1): a pressão arterial esta associada a\n",
        "idade\n"
      ],
      "metadata": {
        "id": "oQDUdaxMEWq1"
      }
    },
    {
      "cell_type": "code",
      "source": [
        "#atribui a coluna pressao arterial e idade nas variaveis pressão arterial e pacientes\n",
        "Idades = pacientes.Idade\n",
        "pressoes_arteriais = pacientes.Pressao_Arterial\n",
        "faixas_etarias = [30,40,50,60,70,80]\n",
        "intervalo_pressao = [100,120,140,160,180,200]\n",
        "\n",
        "#contar o número de pacientes em cada faixa etaria e intervalo de pressão arterial\n",
        "contagem_idades = np.histogram(Idades, bins = faixas_etarias)[0]\n",
        "contagem_pressao = np.histogram(pressoes_arteriais, bins = pressoes_arteriais)[0]\n",
        "\n",
        "statistic, p_value, dof, expected = chi2_contingency(tabela_contingencia)\n",
        "\n",
        "alpha = 0.05\n",
        "if p_value < alpha:\n",
        " print(\"Rejeitamos a hipotese nula \")\n",
        "else:\n",
        "  print(\"Não rejeitamos a hipotese nula\")"
      ],
      "metadata": {
        "colab": {
          "base_uri": "https://localhost:8080/",
          "height": 374
        },
        "id": "v5jtqgIXEXmw",
        "outputId": "832ed53c-c75d-4f1d-d595-b4fffb0fe55c"
      },
      "execution_count": null,
      "outputs": [
        {
          "output_type": "error",
          "ename": "ValueError",
          "evalue": "`bins` must increase monotonically, when an array",
          "traceback": [
            "\u001b[0;31m---------------------------------------------------------------------------\u001b[0m",
            "\u001b[0;31mValueError\u001b[0m                                Traceback (most recent call last)",
            "\u001b[0;32m<ipython-input-25-1286aa1ed689>\u001b[0m in \u001b[0;36m<cell line: 9>\u001b[0;34m()\u001b[0m\n\u001b[1;32m      7\u001b[0m \u001b[0;31m#contar o número de pacientes em cada faixa etaria e intervalo de pressão arterial\u001b[0m\u001b[0;34m\u001b[0m\u001b[0;34m\u001b[0m\u001b[0m\n\u001b[1;32m      8\u001b[0m \u001b[0mcontagem_idades\u001b[0m \u001b[0;34m=\u001b[0m \u001b[0mnp\u001b[0m\u001b[0;34m.\u001b[0m\u001b[0mhistogram\u001b[0m\u001b[0;34m(\u001b[0m\u001b[0mIdades\u001b[0m\u001b[0;34m,\u001b[0m \u001b[0mbins\u001b[0m \u001b[0;34m=\u001b[0m \u001b[0mfaixas_etarias\u001b[0m\u001b[0;34m)\u001b[0m\u001b[0;34m[\u001b[0m\u001b[0;36m0\u001b[0m\u001b[0;34m]\u001b[0m\u001b[0;34m\u001b[0m\u001b[0;34m\u001b[0m\u001b[0m\n\u001b[0;32m----> 9\u001b[0;31m \u001b[0mcontagem_pressao\u001b[0m \u001b[0;34m=\u001b[0m \u001b[0mnp\u001b[0m\u001b[0;34m.\u001b[0m\u001b[0mhistogram\u001b[0m\u001b[0;34m(\u001b[0m\u001b[0mpressoes_arteriais\u001b[0m\u001b[0;34m,\u001b[0m \u001b[0mbins\u001b[0m \u001b[0;34m=\u001b[0m \u001b[0mpressoes_arteriais\u001b[0m\u001b[0;34m)\u001b[0m\u001b[0;34m[\u001b[0m\u001b[0;36m0\u001b[0m\u001b[0;34m]\u001b[0m\u001b[0;34m\u001b[0m\u001b[0;34m\u001b[0m\u001b[0m\n\u001b[0m\u001b[1;32m     10\u001b[0m \u001b[0;34m\u001b[0m\u001b[0m\n\u001b[1;32m     11\u001b[0m \u001b[0mstatistic\u001b[0m\u001b[0;34m,\u001b[0m \u001b[0mp_value\u001b[0m\u001b[0;34m,\u001b[0m \u001b[0mdof\u001b[0m\u001b[0;34m,\u001b[0m \u001b[0mexpected\u001b[0m \u001b[0;34m=\u001b[0m \u001b[0mchi2_contingency\u001b[0m\u001b[0;34m(\u001b[0m\u001b[0mtabela_contingencia\u001b[0m\u001b[0;34m)\u001b[0m\u001b[0;34m\u001b[0m\u001b[0;34m\u001b[0m\u001b[0m\n",
            "\u001b[0;32m/usr/local/lib/python3.10/dist-packages/numpy/lib/histograms.py\u001b[0m in \u001b[0;36mhistogram\u001b[0;34m(a, bins, range, density, weights)\u001b[0m\n\u001b[1;32m    778\u001b[0m     \u001b[0ma\u001b[0m\u001b[0;34m,\u001b[0m \u001b[0mweights\u001b[0m \u001b[0;34m=\u001b[0m \u001b[0m_ravel_and_check_weights\u001b[0m\u001b[0;34m(\u001b[0m\u001b[0ma\u001b[0m\u001b[0;34m,\u001b[0m \u001b[0mweights\u001b[0m\u001b[0;34m)\u001b[0m\u001b[0;34m\u001b[0m\u001b[0;34m\u001b[0m\u001b[0m\n\u001b[1;32m    779\u001b[0m \u001b[0;34m\u001b[0m\u001b[0m\n\u001b[0;32m--> 780\u001b[0;31m     \u001b[0mbin_edges\u001b[0m\u001b[0;34m,\u001b[0m \u001b[0muniform_bins\u001b[0m \u001b[0;34m=\u001b[0m \u001b[0m_get_bin_edges\u001b[0m\u001b[0;34m(\u001b[0m\u001b[0ma\u001b[0m\u001b[0;34m,\u001b[0m \u001b[0mbins\u001b[0m\u001b[0;34m,\u001b[0m \u001b[0mrange\u001b[0m\u001b[0;34m,\u001b[0m \u001b[0mweights\u001b[0m\u001b[0;34m)\u001b[0m\u001b[0;34m\u001b[0m\u001b[0;34m\u001b[0m\u001b[0m\n\u001b[0m\u001b[1;32m    781\u001b[0m \u001b[0;34m\u001b[0m\u001b[0m\n\u001b[1;32m    782\u001b[0m     \u001b[0;31m# Histogram is an integer or a float array depending on the weights.\u001b[0m\u001b[0;34m\u001b[0m\u001b[0;34m\u001b[0m\u001b[0m\n",
            "\u001b[0;32m/usr/local/lib/python3.10/dist-packages/numpy/lib/histograms.py\u001b[0m in \u001b[0;36m_get_bin_edges\u001b[0;34m(a, bins, range, weights)\u001b[0m\n\u001b[1;32m    429\u001b[0m         \u001b[0mbin_edges\u001b[0m \u001b[0;34m=\u001b[0m \u001b[0mnp\u001b[0m\u001b[0;34m.\u001b[0m\u001b[0masarray\u001b[0m\u001b[0;34m(\u001b[0m\u001b[0mbins\u001b[0m\u001b[0;34m)\u001b[0m\u001b[0;34m\u001b[0m\u001b[0;34m\u001b[0m\u001b[0m\n\u001b[1;32m    430\u001b[0m         \u001b[0;32mif\u001b[0m \u001b[0mnp\u001b[0m\u001b[0;34m.\u001b[0m\u001b[0many\u001b[0m\u001b[0;34m(\u001b[0m\u001b[0mbin_edges\u001b[0m\u001b[0;34m[\u001b[0m\u001b[0;34m:\u001b[0m\u001b[0;34m-\u001b[0m\u001b[0;36m1\u001b[0m\u001b[0;34m]\u001b[0m \u001b[0;34m>\u001b[0m \u001b[0mbin_edges\u001b[0m\u001b[0;34m[\u001b[0m\u001b[0;36m1\u001b[0m\u001b[0;34m:\u001b[0m\u001b[0;34m]\u001b[0m\u001b[0;34m)\u001b[0m\u001b[0;34m:\u001b[0m\u001b[0;34m\u001b[0m\u001b[0;34m\u001b[0m\u001b[0m\n\u001b[0;32m--> 431\u001b[0;31m             raise ValueError(\n\u001b[0m\u001b[1;32m    432\u001b[0m                 '`bins` must increase monotonically, when an array')\n\u001b[1;32m    433\u001b[0m \u001b[0;34m\u001b[0m\u001b[0m\n",
            "\u001b[0;31mValueError\u001b[0m: `bins` must increase monotonically, when an array"
          ]
        }
      ]
    },
    {
      "cell_type": "markdown",
      "source": [
        " 9)Qual é o intervalo de confiança para a média da pressão arterial entre\n",
        "os pacientes com condições de saúde adicionais? (nível de confiança\n",
        "95%)"
      ],
      "metadata": {
        "id": "LNoHzvv1gAgB"
      }
    },
    {
      "cell_type": "code",
      "source": [
        "pressao_com_condicoes_adcionais = parcial[parcial['Nome_Estado_Saude'] != 'Saudável']['Pressao_Arterial']\n",
        "\n",
        "media_pressao_condicoes = np.mean(pressao_com_condicoes_adcionais)\n",
        "\n",
        "desvio_padrao_pressao_condicoes = np.std(pressao_com_condicoes_adcionais)\n",
        "\n",
        "n = len(pressao_com_condicoes_adcionais)\n",
        "nivel_confianca = 0.95\n",
        "z= norm.ppf((1+ nivel_confianca/2))\n",
        "\n",
        "#calculra o intervalo de confiança\n",
        "intervalo_confianca = z * (desvio_padrao_pressao_condicoes/np.sqrt(n))\n",
        "\n",
        "limite_inferior = media_pressao_condicoes - intervalo_confianca\n",
        "limite_superior = media_pressao_condicoes + intervalo_confianca\n",
        "\n",
        "print(\"Limte inferior:\",limite_inferior )\n",
        "print(\"Limite superior:\",limite_superior )\n"
      ],
      "metadata": {
        "id": "7Jjw5wDnhc3l"
      },
      "execution_count": null,
      "outputs": []
    },
    {
      "cell_type": "markdown",
      "source": [
        "10. A distribuição da pressão arterial na população segue uma distribuição\n",
        "normal?\n",
        "a. Hipótese Nula (H0): A distribuição da pressão arterial na\n",
        "população segue uma distribuição normal.\n",
        "b. Hipótese Alternativa (H1): A distribuição da pressão arterial na\n",
        "população não segue uma distribuição normal."
      ],
      "metadata": {
        "id": "xRLeogCZlNi8"
      }
    },
    {
      "cell_type": "code",
      "source": [
        "pressoes_arteriais = pacientes.Pressao_Arterial\n",
        "\n",
        "statistic, p_value = kstest(pressoes_arteriais, 'norm')\n",
        "\n",
        "alpha = 0.05\n",
        "if p_value < alpha:\n",
        " print(\"Rejeitamos a hipotese nula \")\n",
        "else:\n",
        "  print(\"Não rejeitamos a hipotese nula\")"
      ],
      "metadata": {
        "id": "2Fj64nT3lRXJ",
        "outputId": "ff0271a5-9348-470a-8845-26235a4f0b3f",
        "colab": {
          "base_uri": "https://localhost:8080/",
          "height": 211
        }
      },
      "execution_count": null,
      "outputs": [
        {
          "output_type": "error",
          "ename": "NameError",
          "evalue": "name 'pacientes' is not defined",
          "traceback": [
            "\u001b[0;31m---------------------------------------------------------------------------\u001b[0m",
            "\u001b[0;31mNameError\u001b[0m                                 Traceback (most recent call last)",
            "\u001b[0;32m<ipython-input-1-208dffb30a15>\u001b[0m in \u001b[0;36m<cell line: 1>\u001b[0;34m()\u001b[0m\n\u001b[0;32m----> 1\u001b[0;31m \u001b[0mpressoes_arteriais\u001b[0m \u001b[0;34m=\u001b[0m \u001b[0mpacientes\u001b[0m\u001b[0;34m.\u001b[0m\u001b[0mPressao_Arterial\u001b[0m\u001b[0;34m\u001b[0m\u001b[0;34m\u001b[0m\u001b[0m\n\u001b[0m\u001b[1;32m      2\u001b[0m \u001b[0;34m\u001b[0m\u001b[0m\n\u001b[1;32m      3\u001b[0m \u001b[0mstatistic\u001b[0m\u001b[0;34m,\u001b[0m \u001b[0mp_value\u001b[0m \u001b[0;34m=\u001b[0m \u001b[0mkstest\u001b[0m\u001b[0;34m(\u001b[0m\u001b[0mpressoes_arteriais\u001b[0m\u001b[0;34m,\u001b[0m \u001b[0;34m'norm'\u001b[0m\u001b[0;34m)\u001b[0m\u001b[0;34m\u001b[0m\u001b[0;34m\u001b[0m\u001b[0m\n\u001b[1;32m      4\u001b[0m \u001b[0;34m\u001b[0m\u001b[0m\n\u001b[1;32m      5\u001b[0m \u001b[0malpha\u001b[0m \u001b[0;34m=\u001b[0m \u001b[0;36m0.05\u001b[0m\u001b[0;34m\u001b[0m\u001b[0;34m\u001b[0m\u001b[0m\n",
            "\u001b[0;31mNameError\u001b[0m: name 'pacientes' is not defined"
          ]
        }
      ]
    }
  ]
}